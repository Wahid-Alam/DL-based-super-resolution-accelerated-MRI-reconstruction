{
 "cells": [
  {
   "cell_type": "markdown",
   "id": "272432ae",
   "metadata": {},
   "source": [
    "# Importing libraries"
   ]
  },
  {
   "cell_type": "code",
   "execution_count": null,
   "id": "6ae33917",
   "metadata": {},
   "outputs": [],
   "source": [
    "import h5py as h5\n",
    "import numpy as np\n",
    "import mat73\n",
    "import pickle\n",
    "from os import path\n",
    "import numpy as np\n",
    "import sigpy as sp\n",
    "import cupy\n",
    "import sigpy.mri as mr\n",
    "import sigpy.linop as lp\n",
    "import sigpy.plot as pl\n",
    "import tqdm as notebook_tqdm\n",
    "import sigpy.plot as pl\n",
    "import torch"
   ]
  },
  {
   "cell_type": "markdown",
   "id": "edef4cd4",
   "metadata": {},
   "source": [
    "# Ground truth and senstitivity map estimation from k-space data"
   ]
  },
  {
   "cell_type": "code",
   "execution_count": null,
   "id": "a1cf54cb",
   "metadata": {},
   "outputs": [],
   "source": [
    "trnGT=[]\n",
    "trnCsm=[]\n",
    "#import torchvision.transforms as transforms\n",
    "\n",
    "#transform = transforms.CenterCrop((64,64))\n",
    "for i in range(1,17):\n",
    "    filename= 'P'+ str(i)+'.mat'\n",
    "    if(filename[-3:-1] =='ma'):  # mat file\n",
    "        extension = '.pickle'\n",
    "        fnamepickle = filename.replace('.mat',extension)\n",
    "        if(not(path.exists(fnamepickle))):\n",
    "            data_dict = mat73.loadmat(filename)\n",
    "            kdata = data_dict['kSpace']\n",
    "            #kdata = np.squeeze(kdata[:,:,:)\n",
    "        # save with pickle for fast reading\n",
    "            with open(fnamepickle, 'wb') as f:\n",
    "                pickle.dump([kdata],f,protocol=4)\n",
    "        else:\n",
    "            with open(fnamepickle, 'rb') as f:\n",
    "                [kdata] = pickle.load(f)\n",
    "    else: # read pickle file\n",
    "        fname = filename\n",
    "        with open(fname, 'rb') as f:\n",
    "            [kdata] = pickle.load(f)\n",
    "\n",
    "    device = sp.Device(0)\n",
    "    kdata = kdata.astype(np.complex64)\n",
    "    kdata= np.transpose(kdata, (3,2,1,0))\n",
    "    ksp = sp.to_device(kdata, device=0)\n",
    "    mps = mr.app.EspiritCalib(ksp ,device=0).run()\n",
    "    sens_maps = sp.to_device(mps, device=0)\n",
    "    recon= mr.app.SenseRecon(ksp, sens_maps, device= 0).run()\n",
    "    pl.ImagePlot(np.squeeze(mps[:,-1,:,:]),z=0,mode='m',colormap='jet',title='Log magnitude of k-space')\n",
    "    pl.ImagePlot(np.squeeze(recon[-1,:,:]),mode='m',vmin=0, vmax=100,title='Log magnitude of k-space')\n",
    "    trnGT.append(recon)\n",
    "    trnCsm.append(mps)"
   ]
  },
  {
   "cell_type": "markdown",
   "id": "1c87722d",
   "metadata": {},
   "source": [
    "# Concatenating along appropriate axis "
   ]
  },
  {
   "cell_type": "code",
   "execution_count": null,
   "id": "8931c7f3",
   "metadata": {},
   "outputs": [],
   "source": [
    "Org=np.concatenate(trnGT, axis=0) \n",
    "Csm_0=np.concatenate(trnCsm, axis=1)\n",
    "#trnOrg_LR= np.transpose(trnOrg_LR, (1,2,0))\n",
    "Csm= np.transpose(Csm, (1, 0, 2, 3)) \n",
    "Csm.shape, Org.shape"
   ]
  },
  {
   "cell_type": "markdown",
   "id": "9271f622",
   "metadata": {},
   "source": [
    " # Loading the sampling mask of R=4"
   ]
  },
  {
   "cell_type": "code",
   "execution_count": null,
   "id": "eea4cde8",
   "metadata": {},
   "outputs": [],
   "source": [
    "x= mat73.loadmat('mask_SR.mat')\n",
    "trnMask=x['trnMask']\n",
    "trnMask= trnMask.astype(int)\n",
    "\n",
    "#tstMask=x['tstMask']\n",
    "#tstMask= tstMask.astype(int)\n",
    "\n",
    "#tstMask=np.transpose(tstMask, (2,0,1))\n",
    "trnMask=np.transpose(trnMask, (2,0,1))\n",
    "trnMask=np.fft.fftshift(trnMask)\n",
    "trnMask.shape, #tstMask.shape"
   ]
  },
  {
   "cell_type": "markdown",
   "id": "52ac161c",
   "metadata": {},
   "source": [
    "# Creating the *hdf5 dataset for MoDL training and testing"
   ]
  },
  {
   "cell_type": "code",
   "execution_count": null,
   "id": "05b9c647",
   "metadata": {},
   "outputs": [],
   "source": [
    "with h5.File('modl_dataset_SR_size64_testing.hdf5', 'w') as f:\n",
    "    f.create_dataset('/tstCsm', data=tstCsm_0.get())\n",
    "    f.create_dataset('/tstMask', data=trnMask)\n",
    "    f.create_dataset('/tstOrg', data=tstOrg.get())"
   ]
  },
  {
   "cell_type": "markdown",
   "id": "3b8b6f3f",
   "metadata": {},
   "source": [
    "# Creating *.png formatted to feed into SRResnet"
   ]
  },
  {
   "cell_type": "code",
   "execution_count": null,
   "id": "8bf55532",
   "metadata": {},
   "outputs": [],
   "source": [
    "import imageio\n",
    "for i in range(tstOrg.shape[0]):\n",
    "    imageio.imwrite('/home/moalam/hpchome/Desktop/MoDL_package/SRGAN_dataset/HR_ground_truth_testing/'+ str(i)+'.png', np.squeeze(abs(tstOrg[i,:,:])).get())"
   ]
  },
  {
   "cell_type": "markdown",
   "id": "9d9e5f64",
   "metadata": {},
   "source": [
    "# Checking *.hdf5 dataset dimension"
   ]
  },
  {
   "cell_type": "code",
   "execution_count": null,
   "id": "5d209c55",
   "metadata": {},
   "outputs": [],
   "source": [
    "filename =\"modl_dataset_SR_size64_testing.hdf5\"\n",
    "dataset = h5.File(filename, \"r\")\n",
    "[print(item) for item in dataset.items()]\n",
    "dataset.close()"
   ]
  },
  {
   "cell_type": "code",
   "execution_count": null,
   "id": "9ba58cba",
   "metadata": {},
   "outputs": [],
   "source": []
  }
 ],
 "metadata": {
  "kernelspec": {
   "display_name": "myenv3.7",
   "language": "python",
   "name": "myenv3.7"
  },
  "language_info": {
   "codemirror_mode": {
    "name": "ipython",
    "version": 3
   },
   "file_extension": ".py",
   "mimetype": "text/x-python",
   "name": "python",
   "nbconvert_exporter": "python",
   "pygments_lexer": "ipython3",
   "version": "3.7.12"
  }
 },
 "nbformat": 4,
 "nbformat_minor": 5
}
